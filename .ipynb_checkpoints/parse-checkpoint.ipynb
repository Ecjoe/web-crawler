{
 "cells": [
  {
   "cell_type": "code",
   "execution_count": null,
   "metadata": {},
   "outputs": [],
   "source": [
    "import ast\n",
    "import pandas as pd\n",
    "pd.options.display.max_rows = 999\n",
    "pd.options.display.max_columns = 999\n",
    "\n",
    "df=pd.read_csv(\"ifb.csv\")\n",
    "\n",
    "rest=df[['product_link', 'product_name', 'product_price']]\n",
    "\n",
    "df = df[\"features\"].astype('str')\n",
    "\n",
    "df = df.apply(lambda x: ast.literal_eval(x))\n",
    "df =df.apply(pd.Series)\n",
    "\n",
    "df=pd.concat([rest, df], axis=1)\n",
    "\n",
    "df.fillna(\"No\", inplace=True)"
   ]
  }
 ],
 "metadata": {
  "kernelspec": {
   "display_name": "Python 3 (ipykernel)",
   "language": "python",
   "name": "python3"
  },
  "language_info": {
   "codemirror_mode": {
    "name": "ipython",
    "version": 3
   },
   "file_extension": ".py",
   "mimetype": "text/x-python",
   "name": "python",
   "nbconvert_exporter": "python",
   "pygments_lexer": "ipython3",
   "version": "3.9.15"
  },
  "vscode": {
   "interpreter": {
    "hash": "609f85ef048f22350a4295f7d26daa2028bfbc4c6e9bc314d3ee0633b3ae567d"
   }
  }
 },
 "nbformat": 4,
 "nbformat_minor": 2
}
